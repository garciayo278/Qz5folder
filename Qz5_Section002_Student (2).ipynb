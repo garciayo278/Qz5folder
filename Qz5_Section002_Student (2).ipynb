{
 "cells": [
  {
   "cell_type": "markdown",
   "metadata": {},
   "source": [
    "## <p style=\"text-align: right;\"> &#9989; Yoel Garcia</p>"
   ]
  },
  {
   "cell_type": "markdown",
   "metadata": {},
   "source": [
    "# CMSE 202: Quiz 5 (Section 002 - Spring 2021)"
   ]
  },
  {
   "cell_type": "markdown",
   "metadata": {},
   "source": [
    "1. You are encouraged to look through the entire quiz before you get started so that you can appropriately budget your time and understand the broad goals of the exam.\n",
    "\n",
    "2. The quiz is set up so that even if you get stuck on one question there are opportunities to get points on the other questions, so consider jumping ahead if you feel like you aren't making progress and then come back later if you have time.\n",
    "\n",
    "3. **Do as much as you can!** Even if your code cannot completely function, you will get partial credits according to the completeness. Provide proper documentation to the code to let the reader understand your intent, especially when your code is not functioning.\n",
    "\n",
    "3. **Important note about using online resources**: This exam is \"open internet\". That means that you can look up documentation, google how to accomplish certain Python tasks, etc. Being able to effectively use the internet for computational modeling and data science is a very important skill, so we want to make sure you have the opportunity to exercise that skill. **However, the use of any person-to-person communication software is absolutely not acceptable.**\n",
    "\n",
    "4. **Do your own work.** This quiz is designed to give *you* the opportunity to show the instructor what you can do and you should hold yourself accountable for maintaining a high level of academic integrity. Any violation of academic integrity could result in you receiving a zero on the quiz.\n",
    "\n",
    "5. The goal of this quiz is to give you the opportunity to test out some of the skills that you've developed thus far this semester. In particular, you'll reflect on what you know about writing code using Python and showcase some of your new programming skills."
   ]
  },
  {
   "cell_type": "markdown",
   "metadata": {},
   "source": [
    "---\n",
    "# Academic integrity statement\n",
    "\n",
    "\n",
    "As a member of the MSU Community, I hold myself to the Spartan Code of Honor academic pledge, which states:\n",
    "\n",
    "> As a Spartan, I will strive to uphold values of the highest ethical standard.  I will practice honesty in my work, foster honesty in my peers, and take pride in knowing that honor is worth more than grades.  I will carry these values beyond my time as a student at Michigan State University, continuing the endeavor to build personal integrity in all that I do.\n",
    "\n",
    "By typing my name in the cell below, I agree to hold myself to a high degree of academic integrity and ensure that all of the work included in this notebook is my own."
   ]
  },
  {
   "cell_type": "markdown",
   "metadata": {},
   "source": [
    "<font size=6 color=\"#009600\">&#9998;</font> Yoel Garcia"
   ]
  },
  {
   "cell_type": "markdown",
   "metadata": {},
   "source": [
    "---\n",
    "### Load modules\n",
    "Take a look of what packages will be used in this quiz."
   ]
  },
  {
   "cell_type": "code",
   "execution_count": 1,
   "metadata": {},
   "outputs": [],
   "source": [
    "import pandas as pd\n",
    "\n",
    "import matplotlib.pyplot as plt\n",
    "\n",
    "from sklearn import svm\n",
    "from sklearn.svm import SVC\n",
    "\n",
    "import numpy as np\n",
    "\n",
    "import networkx as nx"
   ]
  },
  {
   "cell_type": "markdown",
   "metadata": {},
   "source": [
    "---\n",
    "### Task 1 (1pt). Download data using `curl` command\n",
    "**Use `curl` command to download the iris data from** \n",
    "\n",
    "`https://raw.githubusercontent.com/msu-cmse-courses/cmse202-S21-student/master/data/iris.data` \n",
    "\n",
    "\n",
    "\n",
    "<font color='red'>***If you cannot use curl command, using other methods download the data so that you can continue the rest of quiz. However, you will lose 1 pt.***</font>"
   ]
  },
  {
   "cell_type": "code",
   "execution_count": 3,
   "metadata": {},
   "outputs": [
    {
     "name": "stdout",
     "output_type": "stream",
     "text": [
      "  % Total    % Received % Xferd  Average Speed   Time    Time     Time  Current\r\n",
      "                                 Dload  Upload   Total   Spent    Left  Speed\r\n",
      "100  4551  100  4551    0     0   134k      0 --:--:-- --:--:-- --:--:--  138k\r\n"
     ]
    }
   ],
   "source": [
    "!curl https://raw.githubusercontent.com/msu-cmse-courses/cmse202-S21-student/master/data/iris.data -o iris.data"
   ]
  },
  {
   "cell_type": "markdown",
   "metadata": {},
   "source": [
    "---\n",
    "### Task 2 (2 pt). Use pandas to examine the data\n",
    "**Use pandas to read the data, and set the five columns to the names:**\n",
    "\n",
    "`sepal_l`, `sepal_w`, `petal_l`, `petal_w`, `species`\n",
    "\n",
    "***Hint: Day06***\n",
    "\n",
    "<font color='red'>***Even if you cannot successfully read in data, provide your code in Tasks 3, 4, and 5 to get your points***</font>"
   ]
  },
  {
   "cell_type": "code",
   "execution_count": 11,
   "metadata": {},
   "outputs": [],
   "source": [
    "### Your code here\n",
    "\n",
    "df = pd.read_csv(\"iris.data\", header = None, sep = \" \")  ## <== fill the blank \n",
    "df.columns = [\"sepal_l\",\"sepal_w\",\"petal_l\",\"petal_w\",\"species\"]\n"
   ]
  },
  {
   "cell_type": "markdown",
   "metadata": {},
   "source": [
    "**Use head(  ) function to examine the `first 25` data points.** "
   ]
  },
  {
   "cell_type": "code",
   "execution_count": 12,
   "metadata": {},
   "outputs": [
    {
     "data": {
      "text/html": [
       "<div>\n",
       "<style scoped>\n",
       "    .dataframe tbody tr th:only-of-type {\n",
       "        vertical-align: middle;\n",
       "    }\n",
       "\n",
       "    .dataframe tbody tr th {\n",
       "        vertical-align: top;\n",
       "    }\n",
       "\n",
       "    .dataframe thead th {\n",
       "        text-align: right;\n",
       "    }\n",
       "</style>\n",
       "<table border=\"1\" class=\"dataframe\">\n",
       "  <thead>\n",
       "    <tr style=\"text-align: right;\">\n",
       "      <th></th>\n",
       "      <th>sepal_l</th>\n",
       "      <th>sepal_w</th>\n",
       "      <th>petal_l</th>\n",
       "      <th>petal_w</th>\n",
       "      <th>species</th>\n",
       "    </tr>\n",
       "  </thead>\n",
       "  <tbody>\n",
       "    <tr>\n",
       "      <th>0</th>\n",
       "      <td>5.1</td>\n",
       "      <td>3.5</td>\n",
       "      <td>1.4</td>\n",
       "      <td>0.2</td>\n",
       "      <td>Iris-setosa</td>\n",
       "    </tr>\n",
       "    <tr>\n",
       "      <th>1</th>\n",
       "      <td>4.9</td>\n",
       "      <td>3.0</td>\n",
       "      <td>1.4</td>\n",
       "      <td>0.2</td>\n",
       "      <td>Iris-setosa</td>\n",
       "    </tr>\n",
       "    <tr>\n",
       "      <th>2</th>\n",
       "      <td>4.7</td>\n",
       "      <td>3.2</td>\n",
       "      <td>1.3</td>\n",
       "      <td>0.2</td>\n",
       "      <td>Iris-setosa</td>\n",
       "    </tr>\n",
       "    <tr>\n",
       "      <th>3</th>\n",
       "      <td>4.6</td>\n",
       "      <td>3.1</td>\n",
       "      <td>1.5</td>\n",
       "      <td>0.2</td>\n",
       "      <td>Iris-setosa</td>\n",
       "    </tr>\n",
       "    <tr>\n",
       "      <th>4</th>\n",
       "      <td>5.0</td>\n",
       "      <td>3.6</td>\n",
       "      <td>1.4</td>\n",
       "      <td>0.2</td>\n",
       "      <td>Iris-setosa</td>\n",
       "    </tr>\n",
       "    <tr>\n",
       "      <th>5</th>\n",
       "      <td>5.4</td>\n",
       "      <td>3.9</td>\n",
       "      <td>1.7</td>\n",
       "      <td>0.4</td>\n",
       "      <td>Iris-setosa</td>\n",
       "    </tr>\n",
       "    <tr>\n",
       "      <th>6</th>\n",
       "      <td>4.6</td>\n",
       "      <td>3.4</td>\n",
       "      <td>1.4</td>\n",
       "      <td>0.3</td>\n",
       "      <td>Iris-setosa</td>\n",
       "    </tr>\n",
       "    <tr>\n",
       "      <th>7</th>\n",
       "      <td>5.0</td>\n",
       "      <td>3.4</td>\n",
       "      <td>1.5</td>\n",
       "      <td>0.2</td>\n",
       "      <td>Iris-setosa</td>\n",
       "    </tr>\n",
       "    <tr>\n",
       "      <th>8</th>\n",
       "      <td>4.4</td>\n",
       "      <td>2.9</td>\n",
       "      <td>1.4</td>\n",
       "      <td>0.2</td>\n",
       "      <td>Iris-setosa</td>\n",
       "    </tr>\n",
       "    <tr>\n",
       "      <th>9</th>\n",
       "      <td>4.9</td>\n",
       "      <td>3.1</td>\n",
       "      <td>1.5</td>\n",
       "      <td>0.1</td>\n",
       "      <td>Iris-setosa</td>\n",
       "    </tr>\n",
       "    <tr>\n",
       "      <th>10</th>\n",
       "      <td>5.4</td>\n",
       "      <td>3.7</td>\n",
       "      <td>1.5</td>\n",
       "      <td>0.2</td>\n",
       "      <td>Iris-setosa</td>\n",
       "    </tr>\n",
       "    <tr>\n",
       "      <th>11</th>\n",
       "      <td>4.8</td>\n",
       "      <td>3.4</td>\n",
       "      <td>1.6</td>\n",
       "      <td>0.2</td>\n",
       "      <td>Iris-setosa</td>\n",
       "    </tr>\n",
       "    <tr>\n",
       "      <th>12</th>\n",
       "      <td>4.8</td>\n",
       "      <td>3.0</td>\n",
       "      <td>1.4</td>\n",
       "      <td>0.1</td>\n",
       "      <td>Iris-setosa</td>\n",
       "    </tr>\n",
       "    <tr>\n",
       "      <th>13</th>\n",
       "      <td>4.3</td>\n",
       "      <td>3.0</td>\n",
       "      <td>1.1</td>\n",
       "      <td>0.1</td>\n",
       "      <td>Iris-setosa</td>\n",
       "    </tr>\n",
       "    <tr>\n",
       "      <th>14</th>\n",
       "      <td>5.8</td>\n",
       "      <td>4.0</td>\n",
       "      <td>1.2</td>\n",
       "      <td>0.2</td>\n",
       "      <td>Iris-setosa</td>\n",
       "    </tr>\n",
       "    <tr>\n",
       "      <th>15</th>\n",
       "      <td>5.7</td>\n",
       "      <td>4.4</td>\n",
       "      <td>1.5</td>\n",
       "      <td>0.4</td>\n",
       "      <td>Iris-setosa</td>\n",
       "    </tr>\n",
       "    <tr>\n",
       "      <th>16</th>\n",
       "      <td>5.4</td>\n",
       "      <td>3.9</td>\n",
       "      <td>1.3</td>\n",
       "      <td>0.4</td>\n",
       "      <td>Iris-setosa</td>\n",
       "    </tr>\n",
       "    <tr>\n",
       "      <th>17</th>\n",
       "      <td>5.1</td>\n",
       "      <td>3.5</td>\n",
       "      <td>1.4</td>\n",
       "      <td>0.3</td>\n",
       "      <td>Iris-setosa</td>\n",
       "    </tr>\n",
       "    <tr>\n",
       "      <th>18</th>\n",
       "      <td>5.7</td>\n",
       "      <td>3.8</td>\n",
       "      <td>1.7</td>\n",
       "      <td>0.3</td>\n",
       "      <td>Iris-setosa</td>\n",
       "    </tr>\n",
       "    <tr>\n",
       "      <th>19</th>\n",
       "      <td>5.1</td>\n",
       "      <td>3.8</td>\n",
       "      <td>1.5</td>\n",
       "      <td>0.3</td>\n",
       "      <td>Iris-setosa</td>\n",
       "    </tr>\n",
       "    <tr>\n",
       "      <th>20</th>\n",
       "      <td>5.4</td>\n",
       "      <td>3.4</td>\n",
       "      <td>1.7</td>\n",
       "      <td>0.2</td>\n",
       "      <td>Iris-setosa</td>\n",
       "    </tr>\n",
       "    <tr>\n",
       "      <th>21</th>\n",
       "      <td>5.1</td>\n",
       "      <td>3.7</td>\n",
       "      <td>1.5</td>\n",
       "      <td>0.4</td>\n",
       "      <td>Iris-setosa</td>\n",
       "    </tr>\n",
       "    <tr>\n",
       "      <th>22</th>\n",
       "      <td>4.6</td>\n",
       "      <td>3.6</td>\n",
       "      <td>1.0</td>\n",
       "      <td>0.2</td>\n",
       "      <td>Iris-setosa</td>\n",
       "    </tr>\n",
       "    <tr>\n",
       "      <th>23</th>\n",
       "      <td>5.1</td>\n",
       "      <td>3.3</td>\n",
       "      <td>1.7</td>\n",
       "      <td>0.5</td>\n",
       "      <td>Iris-setosa</td>\n",
       "    </tr>\n",
       "    <tr>\n",
       "      <th>24</th>\n",
       "      <td>4.8</td>\n",
       "      <td>3.4</td>\n",
       "      <td>1.9</td>\n",
       "      <td>0.2</td>\n",
       "      <td>Iris-setosa</td>\n",
       "    </tr>\n",
       "  </tbody>\n",
       "</table>\n",
       "</div>"
      ],
      "text/plain": [
       "    sepal_l  sepal_w  petal_l  petal_w      species\n",
       "0       5.1      3.5      1.4      0.2  Iris-setosa\n",
       "1       4.9      3.0      1.4      0.2  Iris-setosa\n",
       "2       4.7      3.2      1.3      0.2  Iris-setosa\n",
       "3       4.6      3.1      1.5      0.2  Iris-setosa\n",
       "4       5.0      3.6      1.4      0.2  Iris-setosa\n",
       "5       5.4      3.9      1.7      0.4  Iris-setosa\n",
       "6       4.6      3.4      1.4      0.3  Iris-setosa\n",
       "7       5.0      3.4      1.5      0.2  Iris-setosa\n",
       "8       4.4      2.9      1.4      0.2  Iris-setosa\n",
       "9       4.9      3.1      1.5      0.1  Iris-setosa\n",
       "10      5.4      3.7      1.5      0.2  Iris-setosa\n",
       "11      4.8      3.4      1.6      0.2  Iris-setosa\n",
       "12      4.8      3.0      1.4      0.1  Iris-setosa\n",
       "13      4.3      3.0      1.1      0.1  Iris-setosa\n",
       "14      5.8      4.0      1.2      0.2  Iris-setosa\n",
       "15      5.7      4.4      1.5      0.4  Iris-setosa\n",
       "16      5.4      3.9      1.3      0.4  Iris-setosa\n",
       "17      5.1      3.5      1.4      0.3  Iris-setosa\n",
       "18      5.7      3.8      1.7      0.3  Iris-setosa\n",
       "19      5.1      3.8      1.5      0.3  Iris-setosa\n",
       "20      5.4      3.4      1.7      0.2  Iris-setosa\n",
       "21      5.1      3.7      1.5      0.4  Iris-setosa\n",
       "22      4.6      3.6      1.0      0.2  Iris-setosa\n",
       "23      5.1      3.3      1.7      0.5  Iris-setosa\n",
       "24      4.8      3.4      1.9      0.2  Iris-setosa"
      ]
     },
     "execution_count": 12,
     "metadata": {},
     "output_type": "execute_result"
    }
   ],
   "source": [
    "### Your code here\n",
    "\n",
    "df.head(25)"
   ]
  },
  {
   "cell_type": "markdown",
   "metadata": {},
   "source": [
    "**Use describe( ) function to show the mean and other information of the data.**"
   ]
  },
  {
   "cell_type": "code",
   "execution_count": 14,
   "metadata": {},
   "outputs": [
    {
     "data": {
      "text/plain": [
       "4.35"
      ]
     },
     "execution_count": 14,
     "metadata": {},
     "output_type": "execute_result"
    }
   ],
   "source": [
    "df.describe()\n",
    "df[\"petal_l\"].median()"
   ]
  },
  {
   "cell_type": "markdown",
   "metadata": {},
   "source": [
    "**What are the mean and median of pedal_l?**"
   ]
  },
  {
   "cell_type": "markdown",
   "metadata": {},
   "source": [
    "<font size=+3>&#9998;</font> the mean is 3.75 and the median is 4.35"
   ]
  },
  {
   "cell_type": "markdown",
   "metadata": {},
   "source": [
    "---\n",
    "### Task 3 (3 pt). Convert data frame to numpy array\n",
    "\n",
    "**You need to convert the df to array X and y for plotting and classification.** \n",
    "\n",
    "1. **Create an `X` array that has the first 4 columns in the Iris data.**\n",
    "2. **Create a `y` array that has numeric values representing the species.**\n",
    "\n",
    "- If species = Iris-setosa, the corresponding value is 0 in y. \n",
    "- If species = Iris-versicolor, the corresponding value is 1 in y.\n",
    "- If species = Iris-virginica, the corresponding value is 2 in y."
   ]
  },
  {
   "cell_type": "code",
   "execution_count": 71,
   "metadata": {},
   "outputs": [
    {
     "data": {
      "text/plain": [
       "array([2, 2, 2, 2, 2, 2, 2, 2, 2, 2, 2, 2, 2, 2, 2, 2, 2, 2, 2, 2, 2, 2,\n",
       "       2, 2, 2, 2, 2, 2, 2, 2, 2, 2, 2, 2, 2, 2, 2, 2, 2, 2, 2, 2, 2, 2,\n",
       "       2, 2, 2, 2, 2, 2, 2, 2, 2, 2, 2, 2, 2, 2, 2, 2, 2, 2, 2, 2, 2, 2,\n",
       "       2, 2, 2, 2, 2, 2, 2, 2, 2, 2, 2, 2, 2, 2, 2, 2, 2, 2, 2, 2, 2, 2,\n",
       "       2, 2, 2, 2, 2, 2, 2, 2, 2, 2, 2, 2, 2, 2, 2, 2, 2, 2, 2, 2, 2, 2,\n",
       "       2, 2, 2, 2, 2, 2, 2, 2, 2, 2, 2, 2, 2, 2, 2, 2, 2, 2, 2, 2, 2, 2,\n",
       "       2, 2, 2, 2, 2, 2, 2, 2, 2, 2, 2, 2, 2, 2, 2, 2, 2, 2], dtype=object)"
      ]
     },
     "execution_count": 71,
     "metadata": {},
     "output_type": "execute_result"
    }
   ],
   "source": [
    "### Here we create an X and y arrays first, and fill the entries \n",
    "### Your code here\n",
    "\n",
    "# X = np.zeros((  , ))  ## <== fill the blanks\n",
    "# y = np.zeros( )      ## <== fill the blanks\n",
    "\n",
    "### the rest of your code\n",
    "temp_df = df.drop(labels = \"species\", axis = 1)\n",
    "species = df[\"species\"]\n",
    "X = temp_df.to_numpy()\n",
    "y = species.to_numpy()\n",
    "counter = 0\n",
    "for i in y:\n",
    "    if (i == \"Iris-setosa\"):\n",
    "        y[counter] = 0\n",
    "    elif (i == \"Iris-versicolor\"):\n",
    "        y[counter] = 1\n",
    "    else:\n",
    "        y[counter] = 2\n",
    "    counter += 1\n",
    "y.astype(int)\n",
    "y"
   ]
  },
  {
   "cell_type": "markdown",
   "metadata": {},
   "source": [
    "---\n",
    "### Task 4 (1 pt). Use scatter function to plot the data points. petal_l versus sepal_l.\n",
    "\n",
    "***petal_l (the 3rd column) as the vertical coordinate, and sepal_l (the 1st column) as the horizontal coordinate.*** You should get a plot like the one below.\n",
    "<img src=\"https://i.ibb.co/PrSFqPf/Sepal-vs-petal.png\" alt=\"Popula-1\" border=\"0\" width=300px>"
   ]
  },
  {
   "cell_type": "code",
   "execution_count": 70,
   "metadata": {},
   "outputs": [
    {
     "data": {
      "text/plain": [
       "Text(0, 0.5, 'sepal_l')"
      ]
     },
     "execution_count": 70,
     "metadata": {},
     "output_type": "execute_result"
    },
    {
     "data": {
      "image/png": "[encoded data removed]",
      "text/plain": [
       "<Figure size 432x288 with 1 Axes>"
      ]
     },
     "metadata": {
      "needs_background": "light"
     },
     "output_type": "display_data"
    }
   ],
   "source": [
    "plt.scatter(X[:,0], X[:,2], c = y)\n",
    "plt.xlabel(\"petal_1\")\n",
    "plt.ylabel(\"sepal_l\")"
   ]
  },
  {
   "cell_type": "markdown",
   "metadata": {},
   "source": [
    "---\n",
    "### Task 5 (2 pt): SVM classification.\n",
    "\n",
    "1. **Create a linear svm classifier.** ***Hint: `svm.SVC` and `linear` kernel***\n",
    "1. **Use the fit( ) function to fit the classifier with the X and y arrays created earlier.**\n",
    "1. **Use the predict( ) function to classfy which species of an iris having** \n",
    "`sepal_l, sepal_w, petal_l and petal_w = 6.5, 4.0, 2.5, and 10.0`, **respectively.** ***Hint: This data point contains four values [6.5, 4.0, 2.5, 10.0]***"
   ]
  },
  {
   "cell_type": "code",
   "execution_count": 52,
   "metadata": {},
   "outputs": [
    {
     "data": {
      "text/plain": [
       "1.0"
      ]
     },
     "execution_count": 52,
     "metadata": {},
     "output_type": "execute_result"
    }
   ],
   "source": [
    "svm_model = svm.SVC(C = 10, kernel = \"linear\")\n",
    "svm_model.fit(X, y)\n",
    "\n",
    "predicted_y = svm_model.predict(X)\n",
    "svm_model.score(X, predicted_y)"
   ]
  },
  {
   "cell_type": "markdown",
   "metadata": {},
   "source": [
    "**Which species?**"
   ]
  },
  {
   "cell_type": "markdown",
   "metadata": {},
   "source": [
    "<font size=+3>&#9998;</font> Do This - put your answer here."
   ]
  },
  {
   "cell_type": "markdown",
   "metadata": {},
   "source": [
    "---\n",
    "### Task 6 (2 pt) Object-oriented programming.\n",
    "\n",
    "You are asked to create a car class that contains two attributes: make and year: `make` is the what model the car is. `year` is how old the car is.\n",
    "\n",
    "1. **Complete the `init` block.** The class contains make and year attributes that will be keyed in later.\n",
    "2. **Complete the get_make method, which allows you to find the `make` of the car.**\n",
    "2. **Complete the get_year method, which allows you to find the `year` of the car.**\n",
    "\n",
    "\n",
    "**Fill the blanks and complete the code below.**"
   ]
  },
  {
   "cell_type": "code",
   "execution_count": 55,
   "metadata": {},
   "outputs": [],
   "source": [
    "class Car():\n",
    "    '''\n",
    "    class of cars. \n",
    "    '''\n",
    "    def __init__(self, make, year):   \n",
    "        '''\n",
    "        This class contains two attributes: make and year.\n",
    "        '''\n",
    "        self.make = make\n",
    "        self.year = year\n",
    "        return\n",
    "    \n",
    "    \n",
    "    def get_make(self):\n",
    "        '''\n",
    "        This method returns the make of the car.\n",
    "        '''      \n",
    "        \n",
    "        return self.make   \n",
    "    \n",
    "    \n",
    "    \n",
    "    def get_year(self):\n",
    "        '''\n",
    "        This method returns how old this car is.\n",
    "        '''        \n",
    "        \n",
    "        return self.year\n",
    "    "
   ]
  },
  {
   "cell_type": "markdown",
   "metadata": {},
   "source": [
    "**Create 5 car classes: Toyo1, Suba1, Suba2, Merc1, Chev1.**"
   ]
  },
  {
   "cell_type": "code",
   "execution_count": 56,
   "metadata": {},
   "outputs": [],
   "source": [
    "Toyo1 = Car('RAV4',5)\n",
    "Suba1 = Car('Outback',6)\n",
    "Suba2 = Car('Outback',2)\n",
    "Merc1 = Car('SLK',10)\n",
    "Chev1 = Car('Corvette',6)"
   ]
  },
  {
   "cell_type": "markdown",
   "metadata": {},
   "source": [
    "### Task 7 (1 pt). \n",
    "\n",
    "**Use the `get_make` and `get_year` methods to print out the make and year of Merc1 in the cell below**"
   ]
  },
  {
   "cell_type": "code",
   "execution_count": 59,
   "metadata": {},
   "outputs": [
    {
     "data": {
      "text/plain": [
       "('SLK', 10)"
      ]
     },
     "execution_count": 59,
     "metadata": {},
     "output_type": "execute_result"
    }
   ],
   "source": [
    "Merc1.get_make(), Merc1.get_year()"
   ]
  },
  {
   "cell_type": "markdown",
   "metadata": {},
   "source": [
    "---\n",
    "### Task 8 (1 pt). Make an adjacency matrix based on the graph in the image below.\n",
    "\n",
    "<img src=\"https://i.ibb.co/NZk07qg/NetX.png\" alt=\"Popula-1\" border=\"0\" width=500px>\n",
    "\n",
    "**Note that you should make the adjcancy matrix in a np array.**"
   ]
  },
  {
   "cell_type": "code",
   "execution_count": 63,
   "metadata": {},
   "outputs": [
    {
     "data": {
      "image/png": "[encoded data removed]",
      "text/plain": [
       "<Figure size 432x288 with 1 Axes>"
      ]
     },
     "metadata": {},
     "output_type": "display_data"
    }
   ],
   "source": [
    "### Your adjacency matrix\n",
    "\n",
    "adj = np.array([[0,1,1,1],\n",
    "                [1,0,1,1],\n",
    "                [1,1,0,1],\n",
    "                [1,1,1,0]])"
   ]
  },
  {
   "cell_type": "markdown",
   "metadata": {},
   "source": [
    "---\n",
    "### Task 9 (1 pt). Create a graph object using networkX and draw the graph.\n",
    "<font color='red'>***Even if you cannot create the adjacency matrix, provide your code in the cell below to get your points.***</font>"
   ]
  },
  {
   "cell_type": "code",
   "execution_count": 64,
   "metadata": {},
   "outputs": [
    {
     "data": {
      "image/png": "[encoded data removed]",
      "text/plain": [
       "<Figure size 432x288 with 1 Axes>"
      ]
     },
     "metadata": {},
     "output_type": "display_data"
    }
   ],
   "source": [
    "G = nx.Graph(adj)\n",
    "nx.draw(G)"
   ]
  },
  {
   "cell_type": "markdown",
   "metadata": {},
   "source": [
    "---\n",
    "\n",
    "### Task 10 (1 pt). Use networkX function to find the shortest path from node 3 to 4.\n",
    "<font color='red'>***Even if you do not have the adjacency matrix and graph object, provide your code in the cell below to get your points.***</font>"
   ]
  },
  {
   "cell_type": "code",
   "execution_count": null,
   "metadata": {},
   "outputs": [],
   "source": [
    "path = nx.shortest_path(social_network, source = 3, target = 4)"
   ]
  },
  {
   "cell_type": "markdown",
   "metadata": {},
   "source": [
    "---\n",
    "### Task 11 (1 pt): Git practice. \n",
    "1. **Create a Qz5 folder on your GitHub and uplaod this notebook file to the folder.**\n",
    "1. **Provide the git command to clone your file in the cell below.**"
   ]
  },
  {
   "cell_type": "markdown",
   "metadata": {},
   "source": [
    "git clone https://github.com/garciayo278/Qz5folder"
   ]
  },
  {
   "cell_type": "markdown",
   "metadata": {},
   "source": [
    "---\n",
    "\n",
    "### Congratulations, you're done!\n",
    "\n",
    "Submit this quiz by uploading it to the course Desire2Learn web page.  Go to the \"Quizzes\" section, find the submission folder link for Quiz #5, and upload it there."
   ]
  }
 ],
 "metadata": {
  "kernelspec": {
   "display_name": "Python 3",
   "language": "python",
   "name": "python3"
  },
  "language_info": {
   "codemirror_mode": {
    "name": "ipython",
    "version": 3
   },
   "file_extension": ".py",
   "mimetype": "text/x-python",
   "name": "python",
   "nbconvert_exporter": "python",
   "pygments_lexer": "ipython3",
   "version": "3.7.3"
  }
 },
 "nbformat": 4,
 "nbformat_minor": 4
}
